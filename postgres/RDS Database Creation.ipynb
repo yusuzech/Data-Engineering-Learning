{
 "cells": [
  {
   "cell_type": "markdown",
   "metadata": {},
   "source": [
    "# load data that will be imported later"
   ]
  },
  {
   "cell_type": "markdown",
   "metadata": {},
   "source": [
    "This hurricane data will be imported later"
   ]
  },
  {
   "cell_type": "code",
   "execution_count": 1,
   "metadata": {},
   "outputs": [],
   "source": [
    "import pandas as pd \n",
    "data = pd.read_csv(\"https://dq-content.s3.amazonaws.com/251/storm_data.csv\")"
   ]
  },
  {
   "cell_type": "markdown",
   "metadata": {},
   "source": [
    "# Connect to database"
   ]
  },
  {
   "cell_type": "markdown",
   "metadata": {},
   "source": [
    " Before connecting to AWS RDS, set up the database first."
   ]
  },
  {
   "cell_type": "code",
   "execution_count": 6,
   "metadata": {},
   "outputs": [],
   "source": [
    "import psycopg2\n",
    "conn = psycopg2.connect(\n",
    "    database=\"<db-alias>\",\n",
    "    user=\"<username>\",\n",
    "    password=\"<password>\",\n",
    "    host=\"<host>\",\n",
    "    port='<port-usually-5432>'\n",
    ")\n",
    "cur = conn.cursor()"
   ]
  },
  {
   "cell_type": "code",
   "execution_count": 7,
   "metadata": {},
   "outputs": [],
   "source": [
    "# create table\n",
    "cur.execute(\"\"\"\n",
    "drop table if exists hurricane;\n",
    "create table hurricane(\n",
    "fid int primary key,\n",
    "year smallint,\n",
    "month smallint,\n",
    "day smallint,\n",
    "ad_time varchar(5),\n",
    "btid smallint,\n",
    "name text,\n",
    "lat numeric(3,1),\n",
    "long numeric(4,1),\n",
    "wind_kts smallint,\n",
    "pressure smallint,\n",
    "cat varchar(2),\n",
    "basin text,\n",
    "shape_leng real);\n",
    "\"\"\")\n",
    "conn.commit()"
   ]
  },
  {
   "cell_type": "code",
   "execution_count": 10,
   "metadata": {},
   "outputs": [],
   "source": [
    "# import the csv\n",
    "for index,row in data.iterrows():\n",
    "    cur.execute(\"insert into hurricane values (%s,%s,%s,%s,%s,%s,%s,%s,%s,%s,%s,%s,%s,%s)\",row)\n",
    "conn.commit()"
   ]
  },
  {
   "cell_type": "code",
   "execution_count": 8,
   "metadata": {},
   "outputs": [],
   "source": [
    "# create group who can only read the table\n",
    "# create a role which can only read this table\n",
    "cur.execute(\"\"\"\n",
    "create role viewer_role with nologin;\n",
    "revoke all on hurricane from viewer_role;\n",
    "grant insert, update, select on hurricane to viewer_role;\n",
    "\"\"\")\n",
    "conn.commit()"
   ]
  },
  {
   "cell_type": "code",
   "execution_count": 9,
   "metadata": {},
   "outputs": [],
   "source": [
    "#assign jack to viewer role\n",
    "cur.execute(\"\"\"\n",
    "create role jack with login password 'jackpass' in role viewer_role;\n",
    "\"\"\")\n",
    "conn.commit()"
   ]
  },
  {
   "cell_type": "code",
   "execution_count": 12,
   "metadata": {},
   "outputs": [],
   "source": [
    "# close the connection\n",
    "conn.close()"
   ]
  },
  {
   "cell_type": "markdown",
   "metadata": {},
   "source": [
    "# Connect using the newly created readonly user"
   ]
  },
  {
   "cell_type": "code",
   "execution_count": 19,
   "metadata": {},
   "outputs": [],
   "source": [
    "conn = psycopg2.connect(\n",
    "    database=\"<db-alias>\",\n",
    "    user=\"jack\",\n",
    "    password=\"jackpass\",\n",
    "    host=\"<host>\",\n",
    "    port='5432'\n",
    ")\n",
    "cur = conn.cursor()"
   ]
  },
  {
   "cell_type": "code",
   "execution_count": 21,
   "metadata": {},
   "outputs": [
    {
     "name": "stdout",
     "output_type": "stream",
     "text": [
      "(2001, 1957, 8, 8, '1800Z', 63, 'NOTNAMED', Decimal('22.5'), Decimal('-140.0'), 50, 0, 'TS', 'Eastern Pacific', 1.14017)\n",
      "(2002, 1961, 10, 3, '1200Z', 116, 'PAULINE', Decimal('22.1'), Decimal('-140.2'), 45, 0, 'TS', 'Eastern Pacific', 1.16619)\n",
      "(2003, 1962, 8, 29, '0600Z', 124, 'C', Decimal('18.0'), Decimal('-140.0'), 45, 0, 'TS', 'Eastern Pacific', 2.10238)\n",
      "(2004, 1967, 7, 14, '0600Z', 168, 'DENISE', Decimal('16.6'), Decimal('-139.5'), 45, 0, 'TS', 'Eastern Pacific', 2.12132)\n",
      "(2005, 1972, 8, 16, '1200Z', 251, 'DIANA', Decimal('18.5'), Decimal('-139.8'), 70, 0, 'H1', 'Eastern Pacific', 1.70294)\n",
      "(2006, 1976, 7, 22, '0000Z', 312, 'DIANA', Decimal('18.6'), Decimal('-139.8'), 30, 0, 'TD', 'Eastern Pacific', 1.6)\n",
      "(2007, 1978, 8, 26, '1200Z', 342, 'KRISTY', Decimal('21.4'), Decimal('-140.2'), 45, 0, 'TS', 'Eastern Pacific', 1.30384)\n",
      "(2008, 1980, 9, 24, '1800Z', 371, 'KAY', Decimal('20.5'), Decimal('-140.2'), 75, 0, 'H1', 'Eastern Pacific', 1.22066)\n",
      "(2009, 1970, 8, 23, '0000Z', 223, 'MAGGIE', Decimal('14.9'), Decimal('-139.4'), 45, 0, 'TS', 'Eastern Pacific', 0.921954)\n",
      "(2010, 1981, 8, 21, '0000Z', 381, 'GREG', Decimal('18.7'), Decimal('-140.2'), 45, 0, 'TS', 'Eastern Pacific', 0.921954)\n"
     ]
    }
   ],
   "source": [
    "cur.execute(\"select * from hurricane limit 10;\")\n",
    "result = cur.fetchall()\n",
    "for row in result:\n",
    "    print(row)"
   ]
  },
  {
   "cell_type": "code",
   "execution_count": 23,
   "metadata": {},
   "outputs": [],
   "source": [
    "conn.close()"
   ]
  }
 ],
 "metadata": {
  "kernelspec": {
   "display_name": "Python 3",
   "language": "python",
   "name": "python3"
  },
  "language_info": {
   "codemirror_mode": {
    "name": "ipython",
    "version": 3
   },
   "file_extension": ".py",
   "mimetype": "text/x-python",
   "name": "python",
   "nbconvert_exporter": "python",
   "pygments_lexer": "ipython3",
   "version": "3.6.6"
  },
  "toc": {
   "base_numbering": 1,
   "nav_menu": {},
   "number_sections": true,
   "sideBar": true,
   "skip_h1_title": false,
   "title_cell": "Table of Contents",
   "title_sidebar": "Contents",
   "toc_cell": false,
   "toc_position": {},
   "toc_section_display": true,
   "toc_window_display": false
  }
 },
 "nbformat": 4,
 "nbformat_minor": 2
}
